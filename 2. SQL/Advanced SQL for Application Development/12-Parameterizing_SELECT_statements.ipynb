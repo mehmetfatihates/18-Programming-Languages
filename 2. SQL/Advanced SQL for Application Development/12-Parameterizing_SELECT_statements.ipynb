{
 "cells": [
  {
   "cell_type": "code",
   "execution_count": 1,
   "id": "0425f152",
   "metadata": {},
   "outputs": [],
   "source": [
    "import psycopg2\n",
    "import os"
   ]
  },
  {
   "cell_type": "code",
   "execution_count": 2,
   "id": "46ab7166",
   "metadata": {},
   "outputs": [],
   "source": [
    "os.environ['USERNAME'] = 'your_db_username'\n",
    "os.environ['PASSWORD'] = 'your_db_password'"
   ]
  },
  {
   "cell_type": "code",
   "execution_count": 3,
   "id": "2858b724",
   "metadata": {},
   "outputs": [],
   "source": [
    "USER = os.environ['USERNAME']\n",
    "PASSWORD = os.environ['PASSWORD']"
   ]
  },
  {
   "cell_type": "code",
   "execution_count": 4,
   "id": "1652e141",
   "metadata": {},
   "outputs": [],
   "source": [
    "conn = psycopg2.connect(database='your_db_name',\n",
    "                        user=USER,\n",
    "                        password=PASSWORD,\n",
    "                        port=5432)"
   ]
  },
  {
   "cell_type": "code",
   "execution_count": 5,
   "id": "7ad2c6ec",
   "metadata": {},
   "outputs": [],
   "source": [
    "def getProductsByType(db_conn, prod_type):\n",
    "    cursor = db_conn.cursor()\n",
    "    sql_string = \"SELECT * FROM products WHERE product_type = %s\"\n",
    "    cursor.execute(sql_string,[prod_type])\n",
    "    return(cursor.fetchall())"
   ]
  },
  {
   "cell_type": "code",
   "execution_count": 6,
   "id": "146fbc1b",
   "metadata": {},
   "outputs": [],
   "source": [
    "all_ovens = getProductsByType(conn, 'oven')"
   ]
  },
  {
   "cell_type": "code",
   "execution_count": 7,
   "id": "ed1aec0c",
   "metadata": {},
   "outputs": [
    {
     "data": {
      "text/plain": [
       "[(1, 'Reflector oven', 'oven'),\n",
       " (2, 'Convection microwave', 'oven'),\n",
       " (15, 'Masonry oven', 'oven'),\n",
       " (24, 'Microwave oven', 'oven'),\n",
       " (32, 'Russian oven', 'oven'),\n",
       " (33, 'Clome oven', 'oven'),\n",
       " (34, 'Convection oven', 'oven'),\n",
       " (37, 'Beehive oven', 'oven'),\n",
       " (38, 'Toaster and toaster ovens', 'oven'),\n",
       " (41, 'Self-cleaning oven', 'oven'),\n",
       " (42, 'Wood-fired oven', 'oven'),\n",
       " (43, 'Kitchener range', 'oven'),\n",
       " (47, 'Oven', 'oven'),\n",
       " (48, 'Hot box (appliance)', 'oven'),\n",
       " (58, 'Tabun oven', 'oven'),\n",
       " (67, 'Chorkor oven', 'oven'),\n",
       " (72, 'Communal oven', 'oven'),\n",
       " (74, 'Halogen oven', 'oven'),\n",
       " (78, 'Stove', 'oven'),\n",
       " (80, 'Earth oven', 'oven')]"
      ]
     },
     "execution_count": 7,
     "metadata": {},
     "output_type": "execute_result"
    }
   ],
   "source": [
    "all_ovens"
   ]
  },
  {
   "cell_type": "code",
   "execution_count": null,
   "id": "82e79f1e",
   "metadata": {},
   "outputs": [],
   "source": []
  }
 ],
 "metadata": {
  "kernelspec": {
   "display_name": "Python 3 (ipykernel)",
   "language": "python",
   "name": "python3"
  },
  "language_info": {
   "codemirror_mode": {
    "name": "ipython",
    "version": 3
   },
   "file_extension": ".py",
   "mimetype": "text/x-python",
   "name": "python",
   "nbconvert_exporter": "python",
   "pygments_lexer": "ipython3",
   "version": "3.9.12"
  }
 },
 "nbformat": 4,
 "nbformat_minor": 5
}
