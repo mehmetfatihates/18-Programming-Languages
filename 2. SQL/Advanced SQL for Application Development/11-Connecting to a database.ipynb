{
 "cells": [
  {
   "cell_type": "code",
   "execution_count": 1,
   "id": "b0815e3d",
   "metadata": {},
   "outputs": [],
   "source": [
    "import psycopg2\n",
    "import os"
   ]
  },
  {
   "cell_type": "code",
   "execution_count": 2,
   "id": "6fd5e8a0",
   "metadata": {},
   "outputs": [],
   "source": [
    "os.environ['USERNAME'] = 'your_db_username'\n",
    "os.environ['PASSWORD'] = 'your_db_password'"
   ]
  },
  {
   "cell_type": "code",
   "execution_count": 3,
   "id": "94648470",
   "metadata": {},
   "outputs": [],
   "source": [
    "USER = os.environ['USERNAME']\n",
    "PASSWORD = os.environ['PASSWORD']"
   ]
  },
  {
   "cell_type": "code",
   "execution_count": 4,
   "id": "8aa9e6b7",
   "metadata": {},
   "outputs": [],
   "source": [
    "conn = psycopg2.connect(database='your_db_name',\n",
    "                        user=USER,\n",
    "                        password=PASSWORD,\n",
    "                        port=5432)"
   ]
  },
  {
   "cell_type": "code",
   "execution_count": 5,
   "id": "f49638d3",
   "metadata": {},
   "outputs": [
    {
     "data": {
      "text/plain": [
       "<connection object at 0x0000013AEB1DF260; dsn: 'user=postgres password=xxx dbname=postgres port=5432', closed: 0>"
      ]
     },
     "execution_count": 5,
     "metadata": {},
     "output_type": "execute_result"
    }
   ],
   "source": [
    "conn"
   ]
  },
  {
   "cell_type": "code",
   "execution_count": 6,
   "id": "187ed686",
   "metadata": {},
   "outputs": [],
   "source": [
    "cursor = conn.cursor()"
   ]
  },
  {
   "cell_type": "code",
   "execution_count": 8,
   "id": "74fa91be",
   "metadata": {},
   "outputs": [
    {
     "data": {
      "text/plain": [
       "<cursor object at 0x0000013AEC502040; closed: 0>"
      ]
     },
     "execution_count": 8,
     "metadata": {},
     "output_type": "execute_result"
    }
   ],
   "source": [
    "cursor"
   ]
  },
  {
   "cell_type": "code",
   "execution_count": null,
   "id": "12497471",
   "metadata": {},
   "outputs": [],
   "source": []
  }
 ],
 "metadata": {
  "kernelspec": {
   "display_name": "Python 3 (ipykernel)",
   "language": "python",
   "name": "python3"
  },
  "language_info": {
   "codemirror_mode": {
    "name": "ipython",
    "version": 3
   },
   "file_extension": ".py",
   "mimetype": "text/x-python",
   "name": "python",
   "nbconvert_exporter": "python",
   "pygments_lexer": "ipython3",
   "version": "3.9.12"
  }
 },
 "nbformat": 4,
 "nbformat_minor": 5
}
