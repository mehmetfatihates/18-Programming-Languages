{
 "cells": [
  {
   "cell_type": "code",
   "execution_count": 1,
   "id": "b2893bc2",
   "metadata": {},
   "outputs": [],
   "source": [
    "class Account():\n",
    "    \n",
    "    def __init__(self,owner,balance=0):\n",
    "        \n",
    "        self.owner = owner\n",
    "        self.balance = balance\n",
    "        \n",
    "    def deposit(self,dep_amt):\n",
    "        \n",
    "        self.balance = self.balance + dep_amt\n",
    "        print(f\"Added {self.balance} to the balance\")\n",
    "        \n",
    "    def withdrawal(self,wd_amt):\n",
    "        \n",
    "        if self.balance >= wd_amt:\n",
    "            self.balance = self.balance - wd_amt\n",
    "            print(\"Withdrawal accepted\")\n",
    "        else:\n",
    "            print(\"Sorry non enough fund!\")\n",
    "            \n",
    "    def __str__(self):\n",
    "        \n",
    "        return f\"Owner: {self.owner} \\nBalance: {self.balance}\"\n",
    "        "
   ]
  },
  {
   "cell_type": "code",
   "execution_count": 2,
   "id": "bd6cf3b1",
   "metadata": {},
   "outputs": [],
   "source": [
    "a = Account(\"Sam\",500)"
   ]
  },
  {
   "cell_type": "code",
   "execution_count": 3,
   "id": "618c9634",
   "metadata": {},
   "outputs": [
    {
     "data": {
      "text/plain": [
       "'Sam'"
      ]
     },
     "execution_count": 3,
     "metadata": {},
     "output_type": "execute_result"
    }
   ],
   "source": [
    "a.owner"
   ]
  },
  {
   "cell_type": "code",
   "execution_count": 4,
   "id": "1a02e11b",
   "metadata": {},
   "outputs": [
    {
     "data": {
      "text/plain": [
       "500"
      ]
     },
     "execution_count": 4,
     "metadata": {},
     "output_type": "execute_result"
    }
   ],
   "source": [
    "a.balance"
   ]
  },
  {
   "cell_type": "code",
   "execution_count": 5,
   "id": "a9aca7aa",
   "metadata": {},
   "outputs": [
    {
     "name": "stdout",
     "output_type": "stream",
     "text": [
      "Added 600 to the balance\n"
     ]
    }
   ],
   "source": [
    "a.deposit(100)\n"
   ]
  },
  {
   "cell_type": "code",
   "execution_count": 6,
   "id": "5c453784",
   "metadata": {},
   "outputs": [
    {
     "name": "stdout",
     "output_type": "stream",
     "text": [
      "Withdrawal accepted\n"
     ]
    }
   ],
   "source": [
    "a.withdrawal(600)"
   ]
  },
  {
   "cell_type": "code",
   "execution_count": 7,
   "id": "6c9014b1",
   "metadata": {},
   "outputs": [
    {
     "name": "stdout",
     "output_type": "stream",
     "text": [
      "Owner: Sam \n",
      "Balance: 0\n"
     ]
    }
   ],
   "source": [
    "print(a)"
   ]
  },
  {
   "cell_type": "code",
   "execution_count": 8,
   "id": "764935b7",
   "metadata": {},
   "outputs": [
    {
     "name": "stdout",
     "output_type": "stream",
     "text": [
      "Sorry non enough fund!\n"
     ]
    }
   ],
   "source": [
    "a.withdrawal(1)"
   ]
  },
  {
   "cell_type": "code",
   "execution_count": null,
   "id": "bb937e83",
   "metadata": {},
   "outputs": [],
   "source": []
  }
 ],
 "metadata": {
  "kernelspec": {
   "display_name": "Python 3 (ipykernel)",
   "language": "python",
   "name": "python3"
  },
  "language_info": {
   "codemirror_mode": {
    "name": "ipython",
    "version": 3
   },
   "file_extension": ".py",
   "mimetype": "text/x-python",
   "name": "python",
   "nbconvert_exporter": "python",
   "pygments_lexer": "ipython3",
   "version": "3.9.12"
  }
 },
 "nbformat": 4,
 "nbformat_minor": 5
}
