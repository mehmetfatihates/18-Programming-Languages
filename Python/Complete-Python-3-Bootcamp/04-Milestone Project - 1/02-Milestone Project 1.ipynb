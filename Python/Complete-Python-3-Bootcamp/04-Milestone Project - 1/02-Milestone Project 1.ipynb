{
 "cells": [
  {
   "cell_type": "code",
   "execution_count": 1,
   "id": "ea992faf",
   "metadata": {},
   "outputs": [],
   "source": [
    "from IPython.display import clear_output\n",
    "\n",
    "def display_board(board):\n",
    "    \n",
    "    clear_output()\n",
    "    \n",
    "    print(board[1]+'|'+board[2]+'|'+board[3])\n",
    "    print('-----')\n",
    "    print(board[4]+'|'+board[5]+'|'+board[6])\n",
    "    print('-----')\n",
    "    print(board[7]+'|'+board[8]+'|'+board[9])"
   ]
  },
  {
   "cell_type": "code",
   "execution_count": 2,
   "id": "8d3987b1",
   "metadata": {},
   "outputs": [
    {
     "name": "stdout",
     "output_type": "stream",
     "text": [
      "1|2|3\n",
      "-----\n",
      "4|5|6\n",
      "-----\n",
      "7|8|9\n"
     ]
    }
   ],
   "source": [
    "first_board=['#','1','2','3','4','5','6','7','8','9']\n",
    "board=display_board(first_board)"
   ]
  },
  {
   "cell_type": "code",
   "execution_count": 3,
   "id": "0357f601",
   "metadata": {},
   "outputs": [],
   "source": [
    "def player_input():\n",
    "    \n",
    "    marker=''\n",
    "    \n",
    "    while marker != 'X' and marker!='O':\n",
    "        marker=input(\"Player 1, please pick a marker 'X' or 'O'\").upper()\n",
    "    \n",
    "    player1=marker\n",
    "    \n",
    "    if player1 == 'X':\n",
    "        player2 = 'O'\n",
    "    else:\n",
    "        player2 = 'X'\n",
    "    \n",
    "    return (player1,player2)"
   ]
  },
  {
   "cell_type": "code",
   "execution_count": 4,
   "id": "ee7af2dd",
   "metadata": {},
   "outputs": [
    {
     "name": "stdout",
     "output_type": "stream",
     "text": [
      "Player 1, please pick a marker 'X' or 'O'X\n"
     ]
    }
   ],
   "source": [
    "player1_marker, player2_marker = player_input()"
   ]
  },
  {
   "cell_type": "code",
   "execution_count": 5,
   "id": "f8304389",
   "metadata": {},
   "outputs": [],
   "source": [
    "def place_marker(board,marker,position):\n",
    "    \n",
    "    board[position]=marker\n",
    "    "
   ]
  },
  {
   "cell_type": "code",
   "execution_count": 6,
   "id": "75de07ba",
   "metadata": {},
   "outputs": [
    {
     "name": "stdout",
     "output_type": "stream",
     "text": [
      "1|2|3\n",
      "-----\n",
      "4|5|6\n",
      "-----\n",
      "7|#|9\n"
     ]
    }
   ],
   "source": [
    "place_marker(first_board,'#',8)\n",
    "display_board(first_board)"
   ]
  },
  {
   "cell_type": "code",
   "execution_count": 7,
   "id": "3779f8bf",
   "metadata": {},
   "outputs": [],
   "source": [
    "def win_check(board,mark):\n",
    "    \n",
    "    return ((board[7] == mark and board[8] == mark and board[9] == mark) or\n",
    "    (board[4] == mark and board[5] == mark and board[6] == mark) or \n",
    "    (board[1] == mark and board[2] == mark and board[3] == mark) or \n",
    "    (board[7] == mark and board[4] == mark and board[1] == mark) or \n",
    "    (board[8] == mark and board[5] == mark and board[2] == mark) or \n",
    "    (board[9] == mark and board[6] == mark and board[3] == mark) or \n",
    "    (board[7] == mark and board[5] == mark and board[3] == mark) or \n",
    "    (board[9] == mark and board[5] == mark and board[1] == mark))"
   ]
  },
  {
   "cell_type": "code",
   "execution_count": 8,
   "id": "6679e6af",
   "metadata": {},
   "outputs": [],
   "source": [
    "import random \n",
    "def choose_first():\n",
    "    flip = random.randint(0,1)\n",
    "    if flip == 0:\n",
    "        return 'Player1'\n",
    "    else:\n",
    "        return 'Player2'"
   ]
  },
  {
   "cell_type": "code",
   "execution_count": 9,
   "id": "1b731571",
   "metadata": {},
   "outputs": [],
   "source": [
    "def space_check(board,position):\n",
    "    return board[position]==' '"
   ]
  },
  {
   "cell_type": "code",
   "execution_count": 10,
   "id": "142c6854",
   "metadata": {},
   "outputs": [],
   "source": [
    "def full_board_check(board):\n",
    "    for i in range(1,10):\n",
    "        if space_check(board,i):\n",
    "            return False\n",
    "    return True"
   ]
  },
  {
   "cell_type": "code",
   "execution_count": 11,
   "id": "3eff0710",
   "metadata": {},
   "outputs": [],
   "source": [
    "def player_choice(board):\n",
    "    position = 0\n",
    "    while position not in [1,2,3,4,5,6,7,8,9] or not space_check(board,position):\n",
    "        position = int(input('Choose a postion: (1-9) '))\n",
    "    return position"
   ]
  },
  {
   "cell_type": "code",
   "execution_count": 12,
   "id": "179f5d05",
   "metadata": {},
   "outputs": [],
   "source": [
    "def replay():\n",
    "    choice = input(\"Play again? Enter Y/N\")\n",
    "    return choice == 'Y'"
   ]
  },
  {
   "cell_type": "code",
   "execution_count": 14,
   "id": "7ac75e92",
   "metadata": {},
   "outputs": [
    {
     "name": "stdout",
     "output_type": "stream",
     "text": [
      "O|X|O\n",
      "-----\n",
      "O|X|X\n",
      "-----\n",
      "X|O|O\n",
      "Tie Game!\n",
      "Play again? Enter Y/Ny\n"
     ]
    }
   ],
   "source": [
    "# while loop to keep running the game\n",
    "print('Welcome to Tic Tac Toe')\n",
    "\n",
    "while True:\n",
    "    \n",
    "    #Play the game\n",
    "    ##Set everithing up(board<whos first<,)\n",
    "    the_board=[' ']*10\n",
    "    player1_marker, player2_marker = player_input()\n",
    "    \n",
    "    turn=choose_first()\n",
    "    print(turn+' will go first')\n",
    "    \n",
    "    play_game = input('Ready to play? (Y/N)' ).upper()\n",
    "    \n",
    "    if play_game =='Y':\n",
    "        game_on =True\n",
    "    else:\n",
    "        game_on =False\n",
    "    \n",
    "    #game play\n",
    "    \n",
    "    while game_on:\n",
    "        if turn == 'Player 1':\n",
    "            #show the display_board\n",
    "            display_board(the_board)\n",
    "            #choose a position\n",
    "            position=player_choice(the_board)\n",
    "            #place the marker on the position\n",
    "            place_marker(the_board,player1_marker,position)\n",
    "            #Check if they won\n",
    "            if win_check(the_board,player1_marker):\n",
    "                display_board(the_board)\n",
    "                print('PLAYER 1 HAS WON')\n",
    "                game_on = False\n",
    "            else:\n",
    "                if full_board_check(the_board):\n",
    "                    display_board(the_board)\n",
    "                    print(\"Tie Game!\")\n",
    "                    break\n",
    "                else:\n",
    "                    turn='Player 2'\n",
    "            \n",
    "        else: \n",
    "            #show the display_board\n",
    "            display_board(the_board)\n",
    "            #choose a position\n",
    "            position=player_choice(the_board)\n",
    "            #place the marker on the position\n",
    "            place_marker(the_board,player2_marker,position)\n",
    "            #Check if they won\n",
    "            if win_check(the_board,player2_marker):\n",
    "                display_board(the_board)\n",
    "                print('PLAYER 2 HAS WON')\n",
    "                game_on = False\n",
    "            else:\n",
    "                if full_board_check(the_board):\n",
    "                    display_board(the_board)\n",
    "                    print(\"Tie Game!\")\n",
    "                    break\n",
    "                else:\n",
    "                    turn='Player 1'\n",
    "\n",
    "    if not replay():\n",
    "        break\n",
    "    "
   ]
  },
  {
   "cell_type": "code",
   "execution_count": null,
   "id": "7ac4970c",
   "metadata": {},
   "outputs": [],
   "source": []
  }
 ],
 "metadata": {
  "kernelspec": {
   "display_name": "Python 3 (ipykernel)",
   "language": "python",
   "name": "python3"
  },
  "language_info": {
   "codemirror_mode": {
    "name": "ipython",
    "version": 3
   },
   "file_extension": ".py",
   "mimetype": "text/x-python",
   "name": "python",
   "nbconvert_exporter": "python",
   "pygments_lexer": "ipython3",
   "version": "3.9.12"
  }
 },
 "nbformat": 4,
 "nbformat_minor": 5
}
