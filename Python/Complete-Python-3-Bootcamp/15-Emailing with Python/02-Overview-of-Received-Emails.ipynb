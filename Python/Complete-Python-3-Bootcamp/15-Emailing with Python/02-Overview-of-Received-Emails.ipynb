{
 "cells": [
  {
   "cell_type": "code",
   "execution_count": 1,
   "id": "201c35de",
   "metadata": {},
   "outputs": [],
   "source": [
    "import imaplib"
   ]
  },
  {
   "cell_type": "code",
   "execution_count": 2,
   "id": "d2391e3e",
   "metadata": {},
   "outputs": [],
   "source": [
    "M = imaplib.IMAP4_SSL('imap.gmail.com')"
   ]
  },
  {
   "cell_type": "code",
   "execution_count": 3,
   "id": "9136b99b",
   "metadata": {},
   "outputs": [],
   "source": [
    "import getpass"
   ]
  },
  {
   "cell_type": "code",
   "execution_count": 4,
   "id": "0612d250",
   "metadata": {},
   "outputs": [
    {
     "name": "stdout",
     "output_type": "stream",
     "text": [
      "Email:········\n"
     ]
    }
   ],
   "source": [
    "email = getpass.getpass(\"Email:\")"
   ]
  },
  {
   "cell_type": "code",
   "execution_count": 5,
   "id": "89949fe3",
   "metadata": {},
   "outputs": [
    {
     "name": "stdout",
     "output_type": "stream",
     "text": [
      "Password:········\n"
     ]
    }
   ],
   "source": [
    "password = getpass.getpass('Password:')"
   ]
  },
  {
   "cell_type": "code",
   "execution_count": 6,
   "id": "223a4e51",
   "metadata": {},
   "outputs": [],
   "source": [
    "# M.login(email,password)"
   ]
  },
  {
   "cell_type": "code",
   "execution_count": 7,
   "id": "17daa29e",
   "metadata": {},
   "outputs": [],
   "source": [
    "# M.list()"
   ]
  },
  {
   "cell_type": "code",
   "execution_count": 8,
   "id": "c5333916",
   "metadata": {},
   "outputs": [],
   "source": [
    "#M.select(inbox)"
   ]
  },
  {
   "cell_type": "code",
   "execution_count": 9,
   "id": "cfbbdd78",
   "metadata": {},
   "outputs": [],
   "source": [
    "#typ, data = M.search(None,'SUBJECT \"NEW TEST PYTHON\")"
   ]
  },
  {
   "cell_type": "code",
   "execution_count": 10,
   "id": "423ccaf3",
   "metadata": {},
   "outputs": [],
   "source": [
    "#typ"
   ]
  },
  {
   "cell_type": "code",
   "execution_count": 11,
   "id": "9bfeaaee",
   "metadata": {},
   "outputs": [],
   "source": [
    "#email_id = data[0]"
   ]
  },
  {
   "cell_type": "code",
   "execution_count": 12,
   "id": "e796380e",
   "metadata": {},
   "outputs": [],
   "source": [
    "#result, email_data = M.fetch(email_id,'(RFC822)')"
   ]
  },
  {
   "cell_type": "code",
   "execution_count": 13,
   "id": "874293a5",
   "metadata": {},
   "outputs": [],
   "source": [
    "#email_data"
   ]
  },
  {
   "cell_type": "code",
   "execution_count": 14,
   "id": "107aa007",
   "metadata": {},
   "outputs": [],
   "source": [
    "#raw_email = email_data[0][1]"
   ]
  },
  {
   "cell_type": "code",
   "execution_count": 15,
   "id": "5d1240d7",
   "metadata": {},
   "outputs": [],
   "source": [
    "#raw_email_string = raw_email.decode('utf-8')"
   ]
  },
  {
   "cell_type": "code",
   "execution_count": 16,
   "id": "fbaf7068",
   "metadata": {},
   "outputs": [],
   "source": [
    "import email"
   ]
  },
  {
   "cell_type": "code",
   "execution_count": 17,
   "id": "89298dbe",
   "metadata": {},
   "outputs": [],
   "source": [
    "#email_message = email.message_from_string(raw_email_string)"
   ]
  },
  {
   "cell_type": "code",
   "execution_count": 18,
   "id": "0c1965dd",
   "metadata": {},
   "outputs": [
    {
     "data": {
      "text/plain": [
       "\"for part in email_message.walk():\\n    if part.get_content_type()=='text/plain':\\n        body = part.get_payload(decode=True)\\n        print(body) \""
      ]
     },
     "execution_count": 18,
     "metadata": {},
     "output_type": "execute_result"
    }
   ],
   "source": [
    "'''for part in email_message.walk():\n",
    "    if part.get_content_type()=='text/plain':\n",
    "        body = part.get_payload(decode=True)\n",
    "        print(body) '''"
   ]
  }
 ],
 "metadata": {
  "kernelspec": {
   "display_name": "Python 3 (ipykernel)",
   "language": "python",
   "name": "python3"
  },
  "language_info": {
   "codemirror_mode": {
    "name": "ipython",
    "version": 3
   },
   "file_extension": ".py",
   "mimetype": "text/x-python",
   "name": "python",
   "nbconvert_exporter": "python",
   "pygments_lexer": "ipython3",
   "version": "3.9.12"
  }
 },
 "nbformat": 4,
 "nbformat_minor": 5
}
