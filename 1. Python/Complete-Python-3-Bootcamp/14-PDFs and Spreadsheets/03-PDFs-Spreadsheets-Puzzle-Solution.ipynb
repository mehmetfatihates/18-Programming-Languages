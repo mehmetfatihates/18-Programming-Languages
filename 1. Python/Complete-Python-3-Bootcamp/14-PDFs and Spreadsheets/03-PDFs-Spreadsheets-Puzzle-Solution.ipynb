{
 "cells": [
  {
   "cell_type": "code",
   "execution_count": 1,
   "id": "48864b2b",
   "metadata": {},
   "outputs": [],
   "source": [
    "import csv"
   ]
  },
  {
   "cell_type": "code",
   "execution_count": 2,
   "id": "a12c4727",
   "metadata": {},
   "outputs": [],
   "source": [
    "data = open('Exercise_Files/find_the_link.csv',encoding=\"utf-8\")\n",
    "csv_data = csv.reader(data)\n",
    "data_lines = list(csv_data)"
   ]
  },
  {
   "cell_type": "code",
   "execution_count": 3,
   "id": "e901466e",
   "metadata": {},
   "outputs": [
    {
     "data": {
      "text/plain": [
       "['22',\n",
       " '98',\n",
       " 't',\n",
       " '83',\n",
       " '33',\n",
       " '53',\n",
       " '66',\n",
       " '13',\n",
       " '81',\n",
       " '53',\n",
       " '60',\n",
       " '52',\n",
       " '45',\n",
       " '51',\n",
       " '39',\n",
       " '98',\n",
       " '14',\n",
       " '94',\n",
       " '68',\n",
       " '5',\n",
       " '99',\n",
       " '62',\n",
       " '68',\n",
       " '95',\n",
       " '50',\n",
       " '81',\n",
       " '64',\n",
       " '58',\n",
       " '96',\n",
       " '1',\n",
       " '71',\n",
       " '4',\n",
       " '60',\n",
       " '57',\n",
       " '84',\n",
       " '39',\n",
       " '5',\n",
       " '24',\n",
       " '79',\n",
       " '19',\n",
       " '86',\n",
       " '20',\n",
       " '15',\n",
       " '55',\n",
       " '68',\n",
       " '26',\n",
       " '81',\n",
       " '78',\n",
       " '3',\n",
       " '2',\n",
       " '24',\n",
       " '64',\n",
       " '17',\n",
       " '86',\n",
       " '3',\n",
       " '16',\n",
       " '89',\n",
       " '81',\n",
       " '33',\n",
       " '70',\n",
       " '42',\n",
       " '5',\n",
       " '31',\n",
       " '42',\n",
       " '45',\n",
       " '42']"
      ]
     },
     "execution_count": 3,
     "metadata": {},
     "output_type": "execute_result"
    }
   ],
   "source": [
    "data_lines[2]"
   ]
  },
  {
   "cell_type": "code",
   "execution_count": 4,
   "id": "3ce3ad37",
   "metadata": {},
   "outputs": [],
   "source": [
    "link_str = ''\n",
    "\n",
    "for row_num,data in enumerate(data_lines):\n",
    "    \n",
    "    link_str += data[row_num]"
   ]
  },
  {
   "cell_type": "code",
   "execution_count": 5,
   "id": "8e128c5c",
   "metadata": {},
   "outputs": [
    {
     "data": {
      "text/plain": [
       "'https://drive.google.com/open?id=1G6SEgg018UB4_4xsAJJ5TdzrhmXipr4Q'"
      ]
     },
     "execution_count": 5,
     "metadata": {},
     "output_type": "execute_result"
    }
   ],
   "source": [
    "link_str"
   ]
  },
  {
   "cell_type": "code",
   "execution_count": 6,
   "id": "b8f957fd",
   "metadata": {},
   "outputs": [],
   "source": [
    "import PyPDF2\n",
    "f = open('Exercise_Files/Find_the_Phone_Number.pdf','rb')"
   ]
  },
  {
   "cell_type": "code",
   "execution_count": 7,
   "id": "78ae3488",
   "metadata": {},
   "outputs": [],
   "source": [
    "pdf = PyPDF2.PdfFileReader(f)"
   ]
  },
  {
   "cell_type": "code",
   "execution_count": 8,
   "id": "05044fa9",
   "metadata": {},
   "outputs": [
    {
     "data": {
      "text/plain": [
       "17"
      ]
     },
     "execution_count": 8,
     "metadata": {},
     "output_type": "execute_result"
    }
   ],
   "source": [
    "pdf.numPages"
   ]
  },
  {
   "cell_type": "code",
   "execution_count": 9,
   "id": "0ed698f6",
   "metadata": {},
   "outputs": [],
   "source": [
    "import re "
   ]
  },
  {
   "cell_type": "code",
   "execution_count": 10,
   "id": "79e6fdec",
   "metadata": {},
   "outputs": [],
   "source": [
    "pattern = r'\\d{3}.\\d{3}.\\d{4}'"
   ]
  },
  {
   "cell_type": "code",
   "execution_count": 11,
   "id": "ab5ffc1b",
   "metadata": {},
   "outputs": [],
   "source": [
    "all_text = ''\n",
    "\n",
    "for n in range(pdf.numPages):\n",
    "    \n",
    "    page=pdf.getPage(n)\n",
    "    page_text = page.extractText()\n",
    "    \n",
    "    all_text = all_text+' '+page_text"
   ]
  },
  {
   "cell_type": "code",
   "execution_count": 12,
   "id": "d673065f",
   "metadata": {},
   "outputs": [
    {
     "name": "stdout",
     "output_type": "stream",
     "text": [
      "505.503.4455\n"
     ]
    }
   ],
   "source": [
    "for match in re.findall(pattern,all_text):\n",
    "    print(match)"
   ]
  }
 ],
 "metadata": {
  "kernelspec": {
   "display_name": "Python 3 (ipykernel)",
   "language": "python",
   "name": "python3"
  },
  "language_info": {
   "codemirror_mode": {
    "name": "ipython",
    "version": 3
   },
   "file_extension": ".py",
   "mimetype": "text/x-python",
   "name": "python",
   "nbconvert_exporter": "python",
   "pygments_lexer": "ipython3",
   "version": "3.9.12"
  }
 },
 "nbformat": 4,
 "nbformat_minor": 5
}
