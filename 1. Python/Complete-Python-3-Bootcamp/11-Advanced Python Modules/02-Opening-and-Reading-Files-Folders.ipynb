{
 "cells": [
  {
   "cell_type": "code",
   "execution_count": 1,
   "id": "110134ac",
   "metadata": {},
   "outputs": [
    {
     "data": {
      "text/plain": [
       "'C:\\\\Users\\\\bireycikan\\\\Desktop\\\\18-Programming-Languages\\\\Python\\\\Complete-Python-3-Bootcamp\\\\11-Advanced Python Modules'"
      ]
     },
     "execution_count": 1,
     "metadata": {},
     "output_type": "execute_result"
    }
   ],
   "source": [
    "pwd"
   ]
  },
  {
   "cell_type": "code",
   "execution_count": 2,
   "id": "621b78ce",
   "metadata": {},
   "outputs": [],
   "source": [
    "f=open('practice.txt','w+')\n",
    "f.write('This is a test string')\n",
    "f.close()"
   ]
  },
  {
   "cell_type": "code",
   "execution_count": 3,
   "id": "7c8874d4",
   "metadata": {},
   "outputs": [],
   "source": [
    "import os"
   ]
  },
  {
   "cell_type": "code",
   "execution_count": 4,
   "id": "58f59b27",
   "metadata": {},
   "outputs": [
    {
     "data": {
      "text/plain": [
       "'C:\\\\Users\\\\bireycikan\\\\Desktop\\\\18-Programming-Languages\\\\Python\\\\Complete-Python-3-Bootcamp\\\\11-Advanced Python Modules'"
      ]
     },
     "execution_count": 4,
     "metadata": {},
     "output_type": "execute_result"
    }
   ],
   "source": [
    "os.getcwd()"
   ]
  },
  {
   "cell_type": "code",
   "execution_count": 5,
   "id": "be9f0e66",
   "metadata": {},
   "outputs": [
    {
     "data": {
      "text/plain": [
       "['.ipynb_checkpoints',\n",
       " '01-Collections-Module.ipynb',\n",
       " '02-Opening-and-Reading-Files-Folders.ipynb',\n",
       " 'practice.txt']"
      ]
     },
     "execution_count": 5,
     "metadata": {},
     "output_type": "execute_result"
    }
   ],
   "source": [
    "os.listdir()"
   ]
  },
  {
   "cell_type": "code",
   "execution_count": 6,
   "id": "734b2664",
   "metadata": {},
   "outputs": [
    {
     "data": {
      "text/plain": [
       "['All Users', 'bireycikan', 'Default', 'Default User', 'desktop.ini', 'Public']"
      ]
     },
     "execution_count": 6,
     "metadata": {},
     "output_type": "execute_result"
    }
   ],
   "source": [
    "os.listdir('C:\\\\Users')"
   ]
  },
  {
   "cell_type": "code",
   "execution_count": 7,
   "id": "08f9521a",
   "metadata": {},
   "outputs": [],
   "source": [
    "import shutil "
   ]
  },
  {
   "cell_type": "code",
   "execution_count": 8,
   "id": "7e8f1937",
   "metadata": {},
   "outputs": [
    {
     "data": {
      "text/plain": [
       "'C:\\\\Users\\\\bireycikan\\\\practice.txt'"
      ]
     },
     "execution_count": 8,
     "metadata": {},
     "output_type": "execute_result"
    }
   ],
   "source": [
    "shutil.move('practice.txt','C:\\\\Users\\\\bireycikan')"
   ]
  },
  {
   "cell_type": "code",
   "execution_count": 9,
   "id": "9d236dbb",
   "metadata": {},
   "outputs": [
    {
     "data": {
      "text/plain": [
       "['.3T',\n",
       " '.bash_history',\n",
       " '.bash_profile',\n",
       " '.conda',\n",
       " '.condarc',\n",
       " '.config',\n",
       " '.continuum',\n",
       " '.dbshell',\n",
       " '.DiaApp2',\n",
       " '.gitconfig',\n",
       " '.idlerc',\n",
       " '.ipython',\n",
       " '.jupyter',\n",
       " '.matplotlib',\n",
       " '.minttyrc',\n",
       " '.openjfx',\n",
       " '.pm2',\n",
       " '.QtWebEngineProcess',\n",
       " '.soapuios',\n",
       " '.spyder-py3',\n",
       " '.ssh',\n",
       " '.v8flags.6.8.275.32-node.55.51ba0dd78e32adb8af96abd3c264f64c.json',\n",
       " '.viminfo',\n",
       " '.vscode',\n",
       " '.vue-cli-ui',\n",
       " '.vuerc',\n",
       " '3D Objects',\n",
       " 'anaconda3',\n",
       " 'AppData',\n",
       " 'Application Data',\n",
       " 'Contacts',\n",
       " 'Cookies',\n",
       " 'DataGripProjects',\n",
       " 'default-soapui-workspace.xml',\n",
       " 'Desktop',\n",
       " 'Documents',\n",
       " 'Downloads',\n",
       " 'Favorites',\n",
       " 'IntelGraphicsProfiles',\n",
       " 'Links',\n",
       " 'Local Settings',\n",
       " 'MicrosoftEdgeBackups',\n",
       " 'Music',\n",
       " 'My Documents',\n",
       " 'NetHood',\n",
       " 'NTUSER.DAT',\n",
       " 'ntuser.dat.LOG1',\n",
       " 'ntuser.dat.LOG2',\n",
       " 'NTUSER.DAT{d9c5cc91-bee7-11eb-8f43-99466da5b054}.TM.blf',\n",
       " 'NTUSER.DAT{d9c5cc91-bee7-11eb-8f43-99466da5b054}.TMContainer00000000000000000001.regtrans-ms',\n",
       " 'NTUSER.DAT{d9c5cc91-bee7-11eb-8f43-99466da5b054}.TMContainer00000000000000000002.regtrans-ms',\n",
       " 'ntuser.ini',\n",
       " 'OneDrive',\n",
       " 'OpenVPN',\n",
       " 'Pictures',\n",
       " 'Postman',\n",
       " 'practice.txt',\n",
       " 'PrintHood',\n",
       " 'Recent',\n",
       " 'Result_3.csv',\n",
       " 'Result_3.xlsx',\n",
       " 'Saved Games',\n",
       " 'Searches',\n",
       " 'SendTo',\n",
       " 'soapui-settings.xml',\n",
       " 'SoapUI-Tutorials',\n",
       " 'Start Menu',\n",
       " 'Templates',\n",
       " 'Tracing',\n",
       " 'Videos']"
      ]
     },
     "execution_count": 9,
     "metadata": {},
     "output_type": "execute_result"
    }
   ],
   "source": [
    "os.listdir('C:\\\\Users\\\\bireycikan')"
   ]
  },
  {
   "cell_type": "code",
   "execution_count": 10,
   "id": "1a387b9a",
   "metadata": {},
   "outputs": [],
   "source": [
    "import send2trash"
   ]
  },
  {
   "cell_type": "code",
   "execution_count": 11,
   "id": "6187672c",
   "metadata": {},
   "outputs": [],
   "source": [
    "send2trash.send2trash('C:\\\\Users\\\\bireycikan\\\\practice.txt')"
   ]
  },
  {
   "cell_type": "code",
   "execution_count": 12,
   "id": "c7565702",
   "metadata": {},
   "outputs": [
    {
     "data": {
      "text/plain": [
       "['.3T',\n",
       " '.bash_history',\n",
       " '.bash_profile',\n",
       " '.conda',\n",
       " '.condarc',\n",
       " '.config',\n",
       " '.continuum',\n",
       " '.dbshell',\n",
       " '.DiaApp2',\n",
       " '.gitconfig',\n",
       " '.idlerc',\n",
       " '.ipython',\n",
       " '.jupyter',\n",
       " '.matplotlib',\n",
       " '.minttyrc',\n",
       " '.openjfx',\n",
       " '.pm2',\n",
       " '.QtWebEngineProcess',\n",
       " '.soapuios',\n",
       " '.spyder-py3',\n",
       " '.ssh',\n",
       " '.v8flags.6.8.275.32-node.55.51ba0dd78e32adb8af96abd3c264f64c.json',\n",
       " '.viminfo',\n",
       " '.vscode',\n",
       " '.vue-cli-ui',\n",
       " '.vuerc',\n",
       " '3D Objects',\n",
       " 'anaconda3',\n",
       " 'AppData',\n",
       " 'Application Data',\n",
       " 'Contacts',\n",
       " 'Cookies',\n",
       " 'DataGripProjects',\n",
       " 'default-soapui-workspace.xml',\n",
       " 'Desktop',\n",
       " 'Documents',\n",
       " 'Downloads',\n",
       " 'Favorites',\n",
       " 'IntelGraphicsProfiles',\n",
       " 'Links',\n",
       " 'Local Settings',\n",
       " 'MicrosoftEdgeBackups',\n",
       " 'Music',\n",
       " 'My Documents',\n",
       " 'NetHood',\n",
       " 'NTUSER.DAT',\n",
       " 'ntuser.dat.LOG1',\n",
       " 'ntuser.dat.LOG2',\n",
       " 'NTUSER.DAT{d9c5cc91-bee7-11eb-8f43-99466da5b054}.TM.blf',\n",
       " 'NTUSER.DAT{d9c5cc91-bee7-11eb-8f43-99466da5b054}.TMContainer00000000000000000001.regtrans-ms',\n",
       " 'NTUSER.DAT{d9c5cc91-bee7-11eb-8f43-99466da5b054}.TMContainer00000000000000000002.regtrans-ms',\n",
       " 'ntuser.ini',\n",
       " 'OneDrive',\n",
       " 'OpenVPN',\n",
       " 'Pictures',\n",
       " 'Postman',\n",
       " 'PrintHood',\n",
       " 'Recent',\n",
       " 'Result_3.csv',\n",
       " 'Result_3.xlsx',\n",
       " 'Saved Games',\n",
       " 'Searches',\n",
       " 'SendTo',\n",
       " 'soapui-settings.xml',\n",
       " 'SoapUI-Tutorials',\n",
       " 'Start Menu',\n",
       " 'Templates',\n",
       " 'Tracing',\n",
       " 'Videos']"
      ]
     },
     "execution_count": 12,
     "metadata": {},
     "output_type": "execute_result"
    }
   ],
   "source": [
    "os.listdir('C:\\\\Users\\\\bireycikan')"
   ]
  },
  {
   "cell_type": "code",
   "execution_count": 13,
   "id": "603b699a",
   "metadata": {},
   "outputs": [
    {
     "data": {
      "text/plain": [
       "'C:\\\\Users\\\\bireycikan\\\\Desktop\\\\18-Programming-Languages\\\\Python\\\\Complete-Python-3-Bootcamp\\\\11-Advanced Python Modules'"
      ]
     },
     "execution_count": 13,
     "metadata": {},
     "output_type": "execute_result"
    }
   ],
   "source": [
    "os.getcwd()"
   ]
  },
  {
   "cell_type": "code",
   "execution_count": 14,
   "id": "b219ba7f",
   "metadata": {},
   "outputs": [
    {
     "name": "stdout",
     "output_type": "stream",
     "text": [
      "Currently looking at C:\\Users\\bireycikan\\Desktop\\18-Programming-Languages\\Python\\Complete-Python-3-Bootcamp\\11-Advanced Python Modules\n",
      "\n",
      "\n",
      "The subfolders are:\n",
      "Subfolder: .ipynb_checkpoints\n",
      "\n",
      "\n",
      "the files are: \n",
      "\t File: 01-Collections-Module.ipynb\n",
      "\t File: 02-Opening-and-Reading-Files-Folders.ipynb\n",
      "Currently looking at C:\\Users\\bireycikan\\Desktop\\18-Programming-Languages\\Python\\Complete-Python-3-Bootcamp\\11-Advanced Python Modules\\.ipynb_checkpoints\n",
      "\n",
      "\n",
      "The subfolders are:\n",
      "\n",
      "\n",
      "the files are: \n",
      "\t File: 01-Collections-Module-checkpoint.ipynb\n",
      "\t File: 02-Opening-and-Reading-Files-Folders-checkpoint.ipynb\n"
     ]
    }
   ],
   "source": [
    "filepath='C:\\\\Users\\\\bireycikan\\\\Desktop\\\\18-Programming-Languages\\\\Python\\\\Complete-Python-3-Bootcamp\\\\11-Advanced Python Modules'\n",
    "for folder, sub_folders,files in os.walk(filepath):\n",
    "    print(f\"Currently looking at {folder}\")\n",
    "    print(\"\\n\")\n",
    "    print(\"The subfolders are:\")\n",
    "    for sub_fold in sub_folders:\n",
    "        print(f\"Subfolder: {sub_fold}\")\n",
    "    print(\"\\n\")\n",
    "    print(\"the files are: \")\n",
    "    for f in files:\n",
    "        print(f\"\\t File: {f}\")"
   ]
  },
  {
   "cell_type": "code",
   "execution_count": null,
   "id": "6468e975",
   "metadata": {},
   "outputs": [],
   "source": []
  }
 ],
 "metadata": {
  "kernelspec": {
   "display_name": "Python 3 (ipykernel)",
   "language": "python",
   "name": "python3"
  },
  "language_info": {
   "codemirror_mode": {
    "name": "ipython",
    "version": 3
   },
   "file_extension": ".py",
   "mimetype": "text/x-python",
   "name": "python",
   "nbconvert_exporter": "python",
   "pygments_lexer": "ipython3",
   "version": "3.9.12"
  }
 },
 "nbformat": 4,
 "nbformat_minor": 5
}
