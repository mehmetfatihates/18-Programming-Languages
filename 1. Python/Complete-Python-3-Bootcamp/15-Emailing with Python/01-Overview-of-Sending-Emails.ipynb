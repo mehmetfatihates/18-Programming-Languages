{
 "cells": [
  {
   "cell_type": "code",
   "execution_count": 1,
   "id": "85a13ace",
   "metadata": {},
   "outputs": [],
   "source": [
    "import smtplib"
   ]
  },
  {
   "cell_type": "code",
   "execution_count": 2,
   "id": "2f082f93",
   "metadata": {},
   "outputs": [],
   "source": [
    "smtp_object = smtplib.SMTP('smtp.gmail.com',587)"
   ]
  },
  {
   "cell_type": "code",
   "execution_count": 3,
   "id": "98cfda93",
   "metadata": {},
   "outputs": [
    {
     "data": {
      "text/plain": [
       "(250,\n",
       " b'smtp.gmail.com at your service, [37.202.54.46]\\nSIZE 35882577\\n8BITMIME\\nSTARTTLS\\nENHANCEDSTATUSCODES\\nPIPELINING\\nCHUNKING\\nSMTPUTF8')"
      ]
     },
     "execution_count": 3,
     "metadata": {},
     "output_type": "execute_result"
    }
   ],
   "source": [
    "smtp_object.ehlo()"
   ]
  },
  {
   "cell_type": "code",
   "execution_count": 4,
   "id": "343b2d20",
   "metadata": {},
   "outputs": [
    {
     "data": {
      "text/plain": [
       "(220, b'2.0.0 Ready to start TLS')"
      ]
     },
     "execution_count": 4,
     "metadata": {},
     "output_type": "execute_result"
    }
   ],
   "source": [
    "smtp_object.starttls()"
   ]
  },
  {
   "cell_type": "code",
   "execution_count": 5,
   "id": "e8383400",
   "metadata": {},
   "outputs": [
    {
     "name": "stdout",
     "output_type": "stream",
     "text": [
      "What is your password !pass\n"
     ]
    }
   ],
   "source": [
    "password = input('What is your password !')"
   ]
  },
  {
   "cell_type": "code",
   "execution_count": 6,
   "id": "6d6c9b99",
   "metadata": {},
   "outputs": [],
   "source": [
    "import getpass\n"
   ]
  },
  {
   "cell_type": "code",
   "execution_count": 7,
   "id": "013983f2",
   "metadata": {},
   "outputs": [
    {
     "name": "stdout",
     "output_type": "stream",
     "text": [
      "Password Please:········\n"
     ]
    }
   ],
   "source": [
    "password = getpass.getpass('Password Please:')"
   ]
  },
  {
   "cell_type": "code",
   "execution_count": 8,
   "id": "e56f6c8b",
   "metadata": {},
   "outputs": [],
   "source": [
    "pasword = 'qwerty'"
   ]
  },
  {
   "cell_type": "code",
   "execution_count": 9,
   "id": "6ae53591",
   "metadata": {},
   "outputs": [
    {
     "name": "stdout",
     "output_type": "stream",
     "text": [
      "Email:········\n"
     ]
    }
   ],
   "source": [
    "email = getpass.getpass(\"Email:\")"
   ]
  },
  {
   "cell_type": "code",
   "execution_count": 10,
   "id": "42c0dcc6",
   "metadata": {},
   "outputs": [
    {
     "name": "stdout",
     "output_type": "stream",
     "text": [
      "Email: ········\n",
      "Password: ········\n"
     ]
    }
   ],
   "source": [
    "email = getpass.getpass(\"Email: \")\n",
    "password = getpass.getpass(\"Password: \")\n",
    "#smtp_object.login(email,password)"
   ]
  },
  {
   "cell_type": "code",
   "execution_count": 11,
   "id": "11f93dae",
   "metadata": {},
   "outputs": [
    {
     "name": "stdout",
     "output_type": "stream",
     "text": [
      "enter the subject line:pass\n"
     ]
    }
   ],
   "source": [
    "from_address = email\n",
    "to_address = email\n",
    "subject = input(\"enter the subject line:\")"
   ]
  },
  {
   "cell_type": "code",
   "execution_count": 12,
   "id": "844cc123",
   "metadata": {},
   "outputs": [
    {
     "name": "stdout",
     "output_type": "stream",
     "text": [
      "enter the body message:pass\n"
     ]
    }
   ],
   "source": [
    "message = input(\"enter the body message:\")"
   ]
  },
  {
   "cell_type": "code",
   "execution_count": 13,
   "id": "de1ddf75",
   "metadata": {},
   "outputs": [],
   "source": [
    "msg = \"Subject\"+subject+'\\n'+message\n"
   ]
  },
  {
   "cell_type": "code",
   "execution_count": 14,
   "id": "5c5f5694",
   "metadata": {},
   "outputs": [],
   "source": [
    "#smtp_object.sendmail(from_address,to_address,msg)"
   ]
  },
  {
   "cell_type": "code",
   "execution_count": null,
   "id": "7562f00c",
   "metadata": {},
   "outputs": [],
   "source": []
  },
  {
   "cell_type": "code",
   "execution_count": null,
   "id": "7ceb06c0",
   "metadata": {},
   "outputs": [],
   "source": []
  }
 ],
 "metadata": {
  "kernelspec": {
   "display_name": "Python 3 (ipykernel)",
   "language": "python",
   "name": "python3"
  },
  "language_info": {
   "codemirror_mode": {
    "name": "ipython",
    "version": 3
   },
   "file_extension": ".py",
   "mimetype": "text/x-python",
   "name": "python",
   "nbconvert_exporter": "python",
   "pygments_lexer": "ipython3",
   "version": "3.9.12"
  }
 },
 "nbformat": 4,
 "nbformat_minor": 5
}
